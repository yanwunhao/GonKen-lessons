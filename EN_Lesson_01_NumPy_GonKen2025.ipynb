{
 "cells": [
  {
   "cell_type": "markdown",
   "id": "d52bdbbb",
   "metadata": {},
   "source": [
    "# Lesson 01: Introduction to NumPy - GonKen 2025 Edition"
   ]
  },
  {
   "cell_type": "markdown",
   "id": "9c547a9b",
   "metadata": {},
   "source": [
    "## Learning Objectives\n",
    "By the end of this lesson, students should be able to:\n",
    "- Understand the core functionalities of NumPy\n",
    "- Create and manipulate multidimensional arrays\n",
    "- Perform mathematical and statistical operations on arrays\n",
    "- Understand broadcasting and vectorization\n",
    "- Apply NumPy to solve intermediate to advanced data problems"
   ]
  },
  {
   "cell_type": "markdown",
   "id": "1c128131",
   "metadata": {},
   "source": [
    "## Section 1: Introduction to NumPy\n",
    "What is NumPy and why is it important?\n",
    "\n",
    "NumPy (Numerical Python) is a fundamental package for scientific computing with Python. It provides powerful N-dimensional array objects, broadcasting functions, and tools for integrating C/C++ and Fortran code. It also supports various mathematical functions for linear algebra, Fourier transforms, and statistical operations."
   ]
  },
  {
   "cell_type": "code",
   "execution_count": null,
   "id": "545ef9af",
   "metadata": {},
   "outputs": [],
   "source": [
    "import numpy as np\n",
    "# Note: np is a common alias used to reference the NumPy library."
   ]
  },
  {
   "cell_type": "markdown",
   "id": "530738e4",
   "metadata": {},
   "source": [
    "### 2.2 Array Types: `dtype`  \n",
    "**Concept:** Understand data types (`dtype`) in NumPy.\n",
    "\n",
    "Every NumPy array has an associated **data type** (abbreviated as `dtype`), which determines:\n",
    "\n",
    "- What kind of values it can store (e.g., integers, floats, booleans, strings)\n",
    "- How much memory each element uses\n",
    "- How operations are applied internally (e.g., integer division vs float division)"
   ]
  },
  {
   "cell_type": "code",
   "execution_count": null,
   "id": "9dcc1492",
   "metadata": {},
   "outputs": [],
   "source": [
    "import numpy as np\n",
    "\n",
    "a = np.array([1.0, 2.0, 3.0])\n",
    "print(a.dtype)   # Output: float64"
   ]
  },
  {
   "cell_type": "markdown",
   "id": "e74c505d",
   "metadata": {},
   "source": [
    "You can specify the `dtype` explicitly during array creation:\n",
    "**Why it matters:**\n",
    "\n",
    "- Operations behave differently depending on `dtype`:  \n",
    "  e.g., `1 / 2` as `int32` gives `0`, but as `float64` gives `0.5`.\n",
    "\n",
    "- Choosing appropriate `dtype` improves **performance** and **memory efficiency**, especially for large datasets.\n",
    "\n",
    "> Use `array.dtype` to inspect, and use the `dtype=` parameter to control how data is stored."
   ]
  },
  {
   "cell_type": "code",
   "execution_count": null,
   "id": "0b424764",
   "metadata": {},
   "outputs": [],
   "source": [
    "np.array([1, 2, 3], dtype='int32')     # 32-bit integers\n",
    "np.array([1, 2, 3], dtype='float64')   # 64-bit floating point\n",
    "np.array([True, False], dtype='bool') # Boolean values"
   ]
  },
  {
   "cell_type": "markdown",
   "id": "cd6f7735",
   "metadata": {},
   "source": [
    "### 3. Array Shapes and Dimensions  \n",
    "**Concept:** Learn about `.shape`, `.ndim`, and `.size` attributes of NumPy arrays.\n",
    "\n",
    "NumPy arrays can have **one or more dimensions**, and understanding their structure is essential when performing mathematical operations, broadcasting, reshaping, or feeding data into machine learning models."
   ]
  },
  {
   "cell_type": "code",
   "execution_count": null,
   "id": "c0f5aec6",
   "metadata": {},
   "outputs": [],
   "source": [
    "import numpy as np\n",
    "\n",
    "a = np.array([[1, 2], [3, 4]])"
   ]
  },
  {
   "cell_type": "markdown",
   "id": "4dfc71e8",
   "metadata": {},
   "source": [
    "Now let’s inspect its structure:\n",
    "**Attributes explained:**\n",
    "\n",
    "- `.shape`: A tuple indicating the number of elements along each axis (rows, columns, depth, etc.)  \n",
    "- `.ndim`: Number of axes (dimensions).  \n",
    "  - 1D → vector, 2D → matrix, 3D → tensor, etc.  \n",
    "- `.size`: Total number of elements (product of dimensions)."
   ]
  },
  {
   "cell_type": "code",
   "execution_count": null,
   "id": "76aeb91e",
   "metadata": {},
   "outputs": [],
   "source": [
    "print(\"Shape:\", a.shape)   # (2, 2) → 2 rows, 2 columns\n",
    "print(\"Dimensions:\", a.ndim)  # 2 → it's a 2D array\n",
    "print(\"Size:\", a.size)     # 4 → total number of elements"
   ]
  },
  {
   "cell_type": "markdown",
   "id": "27fc6459",
   "metadata": {},
   "source": [
    "You can create arrays of various dimensions:\n",
    "\n",
    "> These attributes are especially useful when debugging shape mismatches or preparing data for machine learning pipelines (e.g., reshaping input features to `(n_samples, n_features)`)."
   ]
  },
  {
   "cell_type": "code",
   "execution_count": null,
   "id": "6f3f4a4d",
   "metadata": {},
   "outputs": [],
   "source": [
    "np.array([1, 2, 3])                # 1D → shape: (3,)\n",
    "np.array([[1, 2], [3, 4]])         # 2D → shape: (2, 2)\n",
    "np.zeros((2, 3, 4))    "
   ]
  },
  {
   "cell_type": "markdown",
   "id": "432a2e9b",
   "metadata": {},
   "source": [
    "### 4 Array Operations\n",
    "### 4.1 Arithmetic Operations  \n",
    "**Concept:** Perform element-wise arithmetic on arrays.\n",
    "\n",
    "NumPy supports **vectorized operations**, meaning you can apply arithmetic operations directly to arrays **without using loops**. These operations are performed **element-by-element** and are extremely fast due to underlying C optimizations."
   ]
  },
  {
   "cell_type": "code",
   "execution_count": null,
   "id": "91730b05",
   "metadata": {},
   "outputs": [],
   "source": [
    "import numpy as np\n",
    "\n",
    "a = np.array([1, 2, 3])\n",
    "b = np.array([4, 5, 6])\n",
    "\n",
    "print(a + b)  # [5 7 9]\n",
    "print(a - b)  # [-3 -3 -3]\n",
    "print(a * b)  # [4 10 18]\n",
    "print(a / b)  # [0.25 0.4 0.5]"
   ]
  },
  {
   "cell_type": "markdown",
   "id": "d53bb772",
   "metadata": {},
   "source": [
    "If the arrays are of the same shape, operations are applied to **corresponding elements**.\n",
    "\n",
    "#### 4.2 Scalar operations also apply:"
   ]
  },
  {
   "cell_type": "code",
   "execution_count": null,
   "id": "3b2b0c61",
   "metadata": {},
   "outputs": [],
   "source": [
    "print(a + 10)  # [11 12 13]\n",
    "print(a * 2)   # [2 4 6]"
   ]
  },
  {
   "cell_type": "markdown",
   "id": "a0649f50",
   "metadata": {},
   "source": [
    "#### 4.3 Broadcasting in action:\n",
    "NumPy can apply operations between arrays of different shapes using **broadcasting** rules:\n",
    "\n",
    "In the example below, `b` (1D) is broadcast across the rows of `a` (2D), as long as the shapes are **compatible**.\n",
    "\n",
    "> **Tip:** Vectorized operations using NumPy are not just cleaner—they are **much faster** than Python loops. Always prefer them when working with numeric data."
   ]
  },
  {
   "cell_type": "code",
   "execution_count": null,
   "id": "ba528e3c",
   "metadata": {},
   "outputs": [],
   "source": [
    "a = np.array([[1, 2, 3], [4, 5, 6]])\n",
    "b = np.array([10, 20, 30])\n",
    "\n",
    "print(a + b)\n",
    "# Output:\n",
    "# [[11 22 33]\n",
    "#  [14 25 36]]"
   ]
  },
  {
   "cell_type": "markdown",
   "id": "9a9bd9d4",
   "metadata": {},
   "source": [
    "### Section 5: Indexing and Slicing\n",
    "### 5.1 One-Dimensional Indexing"
   ]
  },
  {
   "cell_type": "markdown",
   "id": "24a0be84",
   "metadata": {},
   "source": [
    "**Concept:** Access and manipulate elements of a 1D NumPy array using indexing and slicing.\n",
    "\n",
    "A **1D array** is similar to a Python list and supports powerful indexing features.\n",
    "\n",
    "You can access individual elements using **zero-based indexing**:"
   ]
  },
  {
   "cell_type": "code",
   "execution_count": null,
   "id": "8d18fc23",
   "metadata": {},
   "outputs": [],
   "source": [
    "import numpy as np\n",
    "\n",
    "a = np.array([10, 20, 30, 40, 50])\n",
    "\n",
    "print(a[0])   # 10\n",
    "print(a[3])   # 40"
   ]
  },
  {
   "cell_type": "markdown",
   "id": "4e1a0c29",
   "metadata": {},
   "source": [
    "You can also use **negative indexing** to count from the end:"
   ]
  },
  {
   "cell_type": "code",
   "execution_count": null,
   "id": "07aa0888",
   "metadata": {},
   "outputs": [],
   "source": [
    "print(a[-1])  # 50\n",
    "print(a[-2])  # 40"
   ]
  },
  {
   "cell_type": "markdown",
   "id": "1b8efcdf",
   "metadata": {},
   "source": [
    "#### Slicing:\n",
    "Slicing extracts **a range of elements**:"
   ]
  },
  {
   "cell_type": "code",
   "execution_count": null,
   "id": "11a3a8ff",
   "metadata": {},
   "outputs": [],
   "source": [
    "print(a[1:4])    # [20 30 40]\n",
    "print(a[:3])     # [10 20 30] → start to index 2\n",
    "print(a[2:])     # [30 40 50] → index 2 to end"
   ]
  },
  {
   "cell_type": "markdown",
   "id": "de7fbb1d",
   "metadata": {},
   "source": [
    "#### Step slicing:\n",
    "Slicing does **not create a copy**—it gives you a **view** of the original data. Modifying a slice will affect the original array unless explicitly copied."
   ]
  },
  {
   "cell_type": "code",
   "execution_count": null,
   "id": "d8729c17",
   "metadata": {},
   "outputs": [],
   "source": [
    "print(a[::2])    # [10 30 50] → every second element"
   ]
  },
  {
   "cell_type": "markdown",
   "id": "e80608a2",
   "metadata": {},
   "source": [
    "> **Tip:** Indexing and slicing are essential for selecting and transforming data before applying mathematical operations or feeding into models."
   ]
  },
  {
   "cell_type": "markdown",
   "id": "f4f28134",
   "metadata": {},
   "source": [
    "### 5.2 Multi-Dimensional Indexing  \n",
    "**Concept:** Access and manipulate elements in 2D (or higher-dimensional) arrays using row-column indices.\n",
    "\n",
    "In multi-dimensional arrays, NumPy uses **comma-separated indexing** to specify positions along each axis.\n",
    "\n",
    "#### Example (2D array):"
   ]
  },
  {
   "cell_type": "code",
   "execution_count": null,
   "id": "b7b7b1c9",
   "metadata": {},
   "outputs": [],
   "source": [
    "import numpy as np\n",
    "\n",
    "b = np.array([[1, 2, 3],\n",
    "              [4, 5, 6]])"
   ]
  },
  {
   "cell_type": "markdown",
   "id": "d55d5c82",
   "metadata": {},
   "source": [
    "This is a 2×3 array (2 rows, 3 columns).\n",
    "\n",
    "#### Accessing individual elements:"
   ]
  },
  {
   "cell_type": "code",
   "execution_count": null,
   "id": "da36fb48",
   "metadata": {},
   "outputs": [],
   "source": [
    "print(b[0, 0])  # 1  → first row, first column\n",
    "print(b[1, 2])  # 6  → second row, third column"
   ]
  },
  {
   "cell_type": "markdown",
   "id": "18721adf",
   "metadata": {},
   "source": [
    "#### Row and column slicing:"
   ]
  },
  {
   "cell_type": "code",
   "execution_count": null,
   "id": "3411e32a",
   "metadata": {},
   "outputs": [],
   "source": [
    "print(b[0])       # [1 2 3]  → entire first row\n",
    "print(b[:, 1])    # [2 5]    → second column from all rows\n",
    "print(b[1, :])    # [4 5 6]  → all columns from second row\n",
    "print(b[0:2, 1:]) # [[2 3] [5 6]] → sub-matrix of bottom-right values"
   ]
  },
  {
   "cell_type": "markdown",
   "id": "55c25b9e",
   "metadata": {},
   "source": [
    "#### Negative indices:\n",
    "You can use negative values to index from the end:\n",
    "\n",
    "> Multi-dimensional indexing is powerful for extracting **submatrices**, accessing **features**, and reshaping data for modeling workflows."
   ]
  },
  {
   "cell_type": "code",
   "execution_count": null,
   "id": "e1f74e8b",
   "metadata": {},
   "outputs": [],
   "source": [
    "print(b[-1, -1])  # 6 → last row, last column"
   ]
  },
  {
   "cell_type": "markdown",
   "id": "3d024f83",
   "metadata": {},
   "source": [
    "### Section 6: Useful NumPy Functions\n",
    "### 6.1 Array Initialization"
   ]
  },
  {
   "cell_type": "markdown",
   "id": "02ec0920",
   "metadata": {},
   "source": [
    "### 6.1 Array Initialization  \n",
    "**Concept:** Create arrays quickly using built-in NumPy functions.\n",
    "\n",
    "NumPy provides a variety of functions to **initialize arrays** of specific shapes, sizes, and values. These are essential for creating placeholder data, structured grids, or clean matrices for computation.\n",
    "\n",
    "#### Common array creation functions:\n",
    "**1. `np.zeros(shape)`**  \n",
    "Creates an array filled with zeros."
   ]
  },
  {
   "cell_type": "code",
   "execution_count": null,
   "id": "77d96dc7",
   "metadata": {},
   "outputs": [],
   "source": [
    "import numpy as np\n",
    "\n",
    "np.zeros((2, 3))  \n",
    "# Output:\n",
    "# [[0. 0. 0.]\n",
    "#  [0. 0. 0.]]"
   ]
  },
  {
   "cell_type": "markdown",
   "id": "3c026bc7",
   "metadata": {},
   "source": [
    "**2. `np.ones(shape)`**  \n",
    "Creates an array filled with ones."
   ]
  },
  {
   "cell_type": "code",
   "execution_count": null,
   "id": "2db8ff69",
   "metadata": {},
   "outputs": [],
   "source": [
    "np.ones((3, 2))  \n",
    "# Output:\n",
    "# [[1. 1.]\n",
    "#  [1. 1.]\n",
    "#  [1. 1.]]"
   ]
  },
  {
   "cell_type": "markdown",
   "id": "6b1e34d6",
   "metadata": {},
   "source": [
    "**3. `np.full(shape, value)`**  \n",
    "Creates an array filled with a specified value."
   ]
  },
  {
   "cell_type": "code",
   "execution_count": null,
   "id": "d4ff9dc5",
   "metadata": {},
   "outputs": [],
   "source": [
    "np.full((2, 2), 7)  \n",
    "# Output:\n",
    "# [[7 7]\n",
    "#  [7 7]]"
   ]
  },
  {
   "cell_type": "markdown",
   "id": "8ae8824e",
   "metadata": {},
   "source": [
    "**4. `np.eye(n)`**  \n",
    "Creates an identity matrix (1s on the diagonal, 0s elsewhere)."
   ]
  },
  {
   "cell_type": "code",
   "execution_count": null,
   "id": "508e91cb",
   "metadata": {},
   "outputs": [],
   "source": [
    "np.eye(3)  \n",
    "# Output:\n",
    "# [[1. 0. 0.]\n",
    "#  [0. 1. 0.]\n",
    "#  [0. 0. 1.]]"
   ]
  },
  {
   "cell_type": "markdown",
   "id": "e307ed40",
   "metadata": {},
   "source": [
    "**5. `np.arange(start, stop, step)`**  \n",
    "Creates values in a range with a specified step (like Python's `range()`)."
   ]
  },
  {
   "cell_type": "code",
   "execution_count": null,
   "id": "20decff9",
   "metadata": {},
   "outputs": [],
   "source": [
    "np.arange(0, 10, 2)  \n",
    "# Output: [0 2 4 6 8]"
   ]
  },
  {
   "cell_type": "markdown",
   "id": "056f6e09",
   "metadata": {},
   "source": [
    "**6. `np.linspace(start, stop, num)`**  \n",
    "Creates `num` evenly spaced values between `start` and `stop` (inclusive).\n",
    "\n",
    "> **Tip:** Use these initialization functions when you need a clean slate, such as preparing weights in machine learning, building masks, or scaffolding array-based computations."
   ]
  },
  {
   "cell_type": "code",
   "execution_count": null,
   "id": "1619a20f",
   "metadata": {},
   "outputs": [],
   "source": [
    "np.linspace(0, 1, 5)  \n",
    "# Output: [0.   0.25 0.5  0.75 1.  ]"
   ]
  },
  {
   "cell_type": "markdown",
   "id": "0a4a7fc8",
   "metadata": {},
   "source": [
    "### Section 7: Reshaping and Flattening\n",
    "**Concept:** Transform the structure of arrays using `.reshape()` and `.flatten()`.\n",
    "\n",
    "In many data science and machine learning tasks, we need to **restructure arrays**—for example, converting a 1D array into 2D format, or flattening a multi-dimensional array into a 1D vector.\n",
    "\n",
    "NumPy provides two powerful tools for this:\n",
    "\n",
    "#### 7.1 `reshape(new_shape)`  \n",
    "Changes the shape of an array without modifying the underlying data."
   ]
  },
  {
   "cell_type": "code",
   "execution_count": null,
   "id": "051e916a",
   "metadata": {},
   "outputs": [],
   "source": [
    "import numpy as np\n",
    "\n",
    "a = np.arange(6)         # [0 1 2 3 4 5]\n",
    "b = a.reshape((2, 3))    # 2 rows, 3 columns\n",
    "\n",
    "print(b)\n",
    "# Output:\n",
    "# [[0 1 2]\n",
    "#  [3 4 5]]"
   ]
  },
  {
   "cell_type": "markdown",
   "id": "2b645db5",
   "metadata": {},
   "source": [
    "- The new shape must be **compatible** with the total number of elements.\n",
    "- You can use `-1` to let NumPy infer one of the dimensions:"
   ]
  },
  {
   "cell_type": "code",
   "execution_count": null,
   "id": "2f7f5d29",
   "metadata": {},
   "outputs": [],
   "source": [
    "a.reshape((3, -1))  # Output: shape (3, 2)"
   ]
  },
  {
   "cell_type": "markdown",
   "id": "f3da5988",
   "metadata": {},
   "source": [
    "#### 7.2 `flatten()`  \n",
    "Converts a multi-dimensional array into a **1D array**.\n",
    "- `.flatten()` returns a **copy** of the array.\n",
    "- If you want a **view**, use `.ravel()` instead (faster, but linked to original array).\n",
    "\n",
    "> **Why it matters:**  \n",
    "Reshaping is crucial for:\n",
    "- Preparing input features for ML models (e.g. `(samples, features)`)\n",
    "- Processing image data (e.g. reshaping 3D pixels into vectors)\n",
    "- Aligning arrays for broadcasting or matrix operations"
   ]
  },
  {
   "cell_type": "code",
   "execution_count": null,
   "id": "7f3562be",
   "metadata": {},
   "outputs": [],
   "source": [
    "print(b.flatten())  # Output: [0 1 2 3 4 5]"
   ]
  },
  {
   "cell_type": "markdown",
   "id": "64f7f761",
   "metadata": {},
   "source": [
    "### Section 8: Broadcasting\n",
    "**Concept:** Apply operations to arrays of different shapes.\n",
    "\n",
    "**Broadcasting** is a powerful NumPy feature that allows you to perform arithmetic operations between arrays of **different shapes**—as long as they follow certain compatibility rules.\n",
    "\n",
    "Instead of manually resizing arrays, NumPy **automatically \"stretches\" dimensions** where possible to match shapes and perform **element-wise operations** efficiently.\n",
    "\n",
    "![title](images/broadcasting.png)\n",
    "<br>\n",
    "\n",
    "#### 8.1 Example 1: 2D + 1D\n",
    "Here, `a` gets broadcast to (3, 3), and `b` gets reshaped to match."
   ]
  },
  {
   "cell_type": "code",
   "execution_count": null,
   "id": "b5450802",
   "metadata": {},
   "outputs": [],
   "source": [
    "import numpy as np\n",
    "\n",
    "a = np.array([[1], [2], [3]])       # Shape: (3, 1)\n",
    "b = np.array([4, 5, 6])             # Shape: (3,) → becomes (1, 3)\n",
    "\n",
    "print(a + b)\n",
    "# Output:\n",
    "# [[5 6 7]\n",
    "#  [6 7 8]\n",
    "#  [7 8 9]]"
   ]
  },
  {
   "cell_type": "markdown",
   "id": "6ed406ef",
   "metadata": {},
   "source": [
    "#### 8.2 Example 2: Scalar + Array\n",
    "\n",
    "A scalar is broadcast across the entire array.\n",
    "\n",
    "#### Broadcasting Rules Summary\n",
    "\n",
    "1. **Compare shapes right-to-left** (trailing dimensions).  \n",
    "2. Dimensions must be:\n",
    "   - Equal, or  \n",
    "   - One of them is 1  \n",
    "3. Missing dimensions are padded with 1 from the left.\n",
    "\n",
    "#### When to use broadcasting:\n",
    "\n",
    "- Adding a vector to every row of a matrix  \n",
    "- Scaling rows or columns  \n",
    "- Efficient data transformations without looping\n",
    "\n",
    "> **Tip:** Broadcasting makes your code cleaner and faster. However, always verify dimensions to avoid subtle bugs or shape mismatches."
   ]
  },
  {
   "cell_type": "code",
   "execution_count": null,
   "id": "a9668112",
   "metadata": {},
   "outputs": [],
   "source": [
    "x = np.array([1, 2, 3])\n",
    "print(x + 10)   # [11 12 13]"
   ]
  },
  {
   "cell_type": "markdown",
   "id": "d5b8a351",
   "metadata": {},
   "source": [
    "### Section 9: Aggregation Functions \n",
    "**Concept:** Summarize or reduce array values using built-in aggregation functions.\n",
    "\n",
    "Aggregation functions in NumPy **reduce multiple values into a single summary statistic**, such as a sum, mean, max, or standard deviation. These are extremely useful for analyzing datasets, computing statistics, or validating model outputs.\n",
    "\n",
    "#### 9.1 Common Aggregation Functions:"
   ]
  },
  {
   "cell_type": "code",
   "execution_count": null,
   "id": "a52f788d",
   "metadata": {},
   "outputs": [],
   "source": [
    "\n",
    "import numpy as np\n",
    "\n",
    "a = np.array([[1, 2],\n",
    "              [3, 4]])\n",
    "\n",
    "print(a.sum())       # Total sum: 10\n",
    "print(a.mean())      # Average: 2.5\n",
    "print(a.std())       # Standard deviation\n",
    "print(a.min())       # Minimum value: 1\n",
    "print(a.max())       # Maximum value: 4\n",
    "print(a.prod())      # Product of all elements: 24"
   ]
  },
  {
   "cell_type": "markdown",
   "id": "36779268",
   "metadata": {},
   "source": [
    "#### 9.2 Aggregation Across Axes\n",
    "\n",
    "Use the `axis` argument to perform aggregations row-wise or column-wise:\n",
    "- `axis=0`: collapse rows → operation across **columns**  \n",
    "- `axis=1`: collapse columns → operation across **rows**"
   ]
  },
  {
   "cell_type": "code",
   "execution_count": null,
   "id": "fd4611c9",
   "metadata": {},
   "outputs": [],
   "source": [
    "print(a.sum(axis=0))  # Sum along columns → [4 6]\n",
    "print(a.sum(axis=1))  # Sum along rows    → [3 7]"
   ]
  },
  {
   "cell_type": "markdown",
   "id": "373eca2f",
   "metadata": {},
   "source": [
    "### Real-world examples:\n",
    "\n",
    "- Sum of pixel values in an image  \n",
    "- Mean score across students  \n",
    "- Standard deviation of sensor readings  \n",
    "- Column-wise normalization of a dataset\n",
    "\n",
    "> **Tip:** Always specify the `axis` explicitly when working with 2D or higher-dimensional arrays—it helps prevent confusion and bugs."
   ]
  },
  {
   "cell_type": "markdown",
   "id": "99b8afcb",
   "metadata": {},
   "source": [
    "## Section 10  Check‑Your‑Understanding Questions\n",
    "1. Create a 1D array with values from 0 to 9.\n",
    "2. Find the mean and standard deviation of [5, 10, 15].\n",
    "3. Create a 3x3 matrix with values from 1 to 9.\n",
    "4. Extract the diagonal elements.\n",
    "5. Create a matrix and normalize it (subtract mean and divide by std dev).\n",
    "6. Demonstrate broadcasting on a 2x1 and 1x2 array.\n",
    "\n",
    "These questions prepare you for a forthcoming set of 20 practice problems (beginner → advanced), which will drill deeper into numpy usecases."
   ]
  }
 ],
 "metadata": {
  "kernelspec": {
   "display_name": "dl_env",
   "language": "python",
   "name": "python3"
  },
  "language_info": {
   "codemirror_mode": {
    "name": "ipython",
    "version": 3
   },
   "file_extension": ".py",
   "mimetype": "text/x-python",
   "name": "python",
   "nbconvert_exporter": "python",
   "pygments_lexer": "ipython3",
   "version": "3.10.15"
  }
 },
 "nbformat": 4,
 "nbformat_minor": 5
}
