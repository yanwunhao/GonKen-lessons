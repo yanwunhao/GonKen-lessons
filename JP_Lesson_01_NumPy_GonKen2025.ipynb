{
 "cells": [
  {
   "cell_type": "markdown",
   "id": "d52bdbbb",
   "metadata": {},
   "source": [
    "# レッスン 01: NumPy 入門 - GonKen 2025 版"
   ]
  },
  {
   "cell_type": "markdown",
   "id": "9c547a9b",
   "metadata": {},
   "source": [
    "## 学習目標\n",
    "このレッスンを終えるまでに、受講者は以下のことができるようになります。\n",
    "- NumPy のコア機能を理解する\n",
    "- 多次元配列を作成および操作する\n",
    "- 配列に対して数学的および統計的な演算を実行する\n",
    "- ブロードキャストとベクトル化を理解する\n",
    "- NumPy を適用して中級から上級レベルのデータ問題を解決する"
   ]
  },
  {
   "cell_type": "markdown",
   "id": "1c128131",
   "metadata": {},
   "source": [
    "## セクション 1: NumPy 入門\n",
    "NumPy とは何か、そしてなぜ重要なのか？\n",
    "\n",
    "NumPy (Numerical Python) は、Python を用いた科学計算のための基本パッケージです。強力な N 次元配列オブジェクト、ブロードキャスト関数、そして C/C++ および Fortran コードを統合するためのツールを提供します。また、線形代数、フーリエ変換、統計演算のための様々な数学関数もサポートしています。"
   ]
  },
  {
   "cell_type": "code",
   "execution_count": null,
   "id": "545ef9af",
   "metadata": {},
   "outputs": [],
   "source": [
    "import numpy as np\n",
    "# Note: np is a common alias used to reference the NumPy library."
   ]
  },
  {
   "cell_type": "markdown",
   "id": "530738e4",
   "metadata": {},
   "source": [
    "### 2.2 配列型: `dtype`\n",
    "**概念:** NumPy のデータ型 (`dtype`) を理解します。\n",
    "\n",
    "すべての NumPy 配列には、**データ型** (略称 `dtype`) が関連付けられています。データ型によって以下の内容が決まります。\n",
    "\n",
    "- 格納できる値の種類 (例: 整数、浮動小数点数、ブール値、文字列)\n",
    "- 各要素が使用するメモリ量\n",
    "- 内部で演算がどのように適用されるか (例: 整数の除算と浮動小数点数の除算)"
   ]
  },
  {
   "cell_type": "code",
   "execution_count": null,
   "id": "9dcc1492",
   "metadata": {},
   "outputs": [],
   "source": [
    "import numpy as np\n",
    "\n",
    "a = np.array([1.0, 2.0, 3.0])\n",
    "print(a.dtype)   # Output: float64"
   ]
  },
  {
   "cell_type": "markdown",
   "id": "e74c505d",
   "metadata": {},
   "source": [
    "配列作成時に `dtype` を明示的に指定できます。\n",
    "**重要理由:**\n",
    "\n",
    "- 演算の動作は `dtype` によって異なります。\n",
    "\n",
    "例えば、`1 / 2` を `int32` として計算すると `0` になりますが、`float64` として計算すると `0.5` になります。\n",
    "\n",
    "- 適切な `dtype` を選択すると、特に大規模なデータセットでは**パフォーマンス**と**メモリ効率**が向上します。\n",
    "\n",
    "> `array.dtype` を使用してデータの格納方法を検査し、`dtype=` パラメータを使用してデータの格納方法を制御します。"
   ]
  },
  {
   "cell_type": "code",
   "execution_count": null,
   "id": "0b424764",
   "metadata": {},
   "outputs": [],
   "source": [
    "np.array([1, 2, 3], dtype='int32')     # 32-bit integers\n",
    "np.array([1, 2, 3], dtype='float64')   # 64-bit floating point\n",
    "np.array([True, False], dtype='bool') # Boolean values"
   ]
  },
  {
   "cell_type": "markdown",
   "id": "cd6f7735",
   "metadata": {},
   "source": [
    "### 3. 配列の形状と次元\n",
    "**概念:** NumPy 配列の `.shape`、`.ndim`、`.size` 属性について学習します。\n",
    "\n",
    "NumPy 配列は **1 つ以上の次元** を持つことができ、その構造を理解することは、数学演算、ブロードキャスト、リシェイプ、機械学習モデルへのデータ入力を行う際に不可欠です。"
   ]
  },
  {
   "cell_type": "code",
   "execution_count": null,
   "id": "c0f5aec6",
   "metadata": {},
   "outputs": [],
   "source": [
    "import numpy as np\n",
    "\n",
    "a = np.array([[1, 2], [3, 4]])"
   ]
  },
  {
   "cell_type": "markdown",
   "id": "4dfc71e8",
   "metadata": {},
   "source": [
    "それでは、その構造を見てみましょう。\n",
    "**属性の説明:**\n",
    "\n",
    "- `.shape`: 各軸（行、列、深さなど）の要素数を示すタプル\n",
    "- `.ndim`: 軸の数（次元）。\n",
    "- 1D → ベクトル、2D → 行列、3D → テンソルなど。\n",
    "- `.size`: 要素の総数（次元の積）。"
   ]
  },
  {
   "cell_type": "code",
   "execution_count": null,
   "id": "76aeb91e",
   "metadata": {},
   "outputs": [],
   "source": [
    "print(\"Shape:\", a.shape)   # (2, 2) → 2 rows, 2 columns\n",
    "print(\"Dimensions:\", a.ndim)  # 2 → it's a 2D array\n",
    "print(\"Size:\", a.size)     # 4 → total number of elements"
   ]
  },
  {
   "cell_type": "markdown",
   "id": "27fc6459",
   "metadata": {},
   "source": [
    "様々な次元の配列を作成できます。\n",
    "\n",
    "> これらの属性は、形状の不一致をデバッグする場合や、機械学習パイプライン用のデータを準備する場合（例：入力特徴量を `(n_samples, n_features)` に再形成する場合）に特に役立ちます。"
   ]
  },
  {
   "cell_type": "code",
   "execution_count": null,
   "id": "6f3f4a4d",
   "metadata": {},
   "outputs": [],
   "source": [
    "np.array([1, 2, 3])                # 1D → shape: (3,)\n",
    "np.array([[1, 2], [3, 4]])         # 2D → shape: (2, 2)\n",
    "np.zeros((2, 3, 4))    "
   ]
  },
  {
   "cell_type": "markdown",
   "id": "432a2e9b",
   "metadata": {},
   "source": [
    "### 4 配列演算\n",
    "### 4.1 算術演算\n",
    "**概念:** 配列の要素ごとに算術演算を実行します。\n",
    "\n",
    "NumPy は **ベクトル化演算** をサポートしているため、**ループを使用せずに**配列に直接算術演算を適用できます。これらの演算は **要素ごとに** 実行され、C 言語の最適化により非常に高速です。"
   ]
  },
  {
   "cell_type": "code",
   "execution_count": null,
   "id": "91730b05",
   "metadata": {},
   "outputs": [],
   "source": [
    "import numpy as np\n",
    "\n",
    "a = np.array([1, 2, 3])\n",
    "b = np.array([4, 5, 6])\n",
    "\n",
    "print(a + b)  # [5 7 9]\n",
    "print(a - b)  # [-3 -3 -3]\n",
    "print(a * b)  # [4 10 18]\n",
    "print(a / b)  # [0.25 0.4 0.5]"
   ]
  },
  {
   "cell_type": "markdown",
   "id": "d53bb772",
   "metadata": {},
   "source": [
    "配列の形状が同じ場合、演算は**対応する要素**に適用されます。\n",
    "\n",
    "#### 4.2 スカラー演算も適用されます。"
   ]
  },
  {
   "cell_type": "code",
   "execution_count": null,
   "id": "3b2b0c61",
   "metadata": {},
   "outputs": [],
   "source": [
    "print(a + 10)  # [11 12 13]\n",
    "print(a * 2)   # [2 4 6]"
   ]
  },
  {
   "cell_type": "markdown",
   "id": "a0649f50",
   "metadata": {},
   "source": [
    "#### 4.3 ブロードキャストの活用例:\n",
    "NumPy は、**ブロードキャスト** ルールを用いて、異なる形状の配列間で演算を適用できます。\n",
    "\n",
    "以下の例では、形状が **互換性** がある限り、`b` (1D) は `a` (2D) の行全体にブロードキャストされます。\n",
    "\n",
    "> **ヒント:** NumPy を用いたベクトル化演算は、単に処理が簡潔なだけでなく、Python のループよりも **はるかに高速** です。数値データを扱う場合は、常にベクトル化演算を優先してください。"
   ]
  },
  {
   "cell_type": "code",
   "execution_count": null,
   "id": "ba528e3c",
   "metadata": {},
   "outputs": [],
   "source": [
    "a = np.array([[1, 2, 3], [4, 5, 6]])\n",
    "b = np.array([10, 20, 30])\n",
    "\n",
    "print(a + b)\n",
    "# Output:\n",
    "# [[11 22 33]\n",
    "#  [14 25 36]]"
   ]
  },
  {
   "cell_type": "markdown",
   "id": "9a9bd9d4",
   "metadata": {},
   "source": [
    "### セクション 5: インデックスとスライス\n",
    "### 5.1 1次元インデックス"
   ]
  },
  {
   "cell_type": "markdown",
   "id": "24a0be84",
   "metadata": {},
   "source": [
    "**概念:** インデックスとスライスを使用して、1次元 NumPy 配列の要素にアクセスし、操作します。\n",
    "\n",
    "**1次元配列** は Python のリストに似ており、強力なインデックス機能をサポートしています。\n",
    "\n",
    "**0 から始まるインデックス** を使用して、個々の要素にアクセスできます。"
   ]
  },
  {
   "cell_type": "code",
   "execution_count": null,
   "id": "8d18fc23",
   "metadata": {},
   "outputs": [],
   "source": [
    "import numpy as np\n",
    "\n",
    "a = np.array([10, 20, 30, 40, 50])\n",
    "\n",
    "print(a[0])   # 10\n",
    "print(a[3])   # 40"
   ]
  },
  {
   "cell_type": "markdown",
   "id": "4e1a0c29",
   "metadata": {},
   "source": [
    "**負のインデックス** を使用して末尾からカウントすることもできます。"
   ]
  },
  {
   "cell_type": "code",
   "execution_count": null,
   "id": "07aa0888",
   "metadata": {},
   "outputs": [],
   "source": [
    "print(a[-1])  # 50\n",
    "print(a[-2])  # 40"
   ]
  },
  {
   "cell_type": "markdown",
   "id": "1b8efcdf",
   "metadata": {},
   "source": [
    "#### スライス:\n",
    "スライスは**要素の範囲**を抽出します。"
   ]
  },
  {
   "cell_type": "code",
   "execution_count": null,
   "id": "11a3a8ff",
   "metadata": {},
   "outputs": [],
   "source": [
    "print(a[1:4])    # [20 30 40]\n",
    "print(a[:3])     # [10 20 30] → start to index 2\n",
    "print(a[2:])     # [30 40 50] → index 2 to end"
   ]
  },
  {
   "cell_type": "markdown",
   "id": "de7fbb1d",
   "metadata": {},
   "source": [
    "#### ステップスライス:\n",
    "スライスは**コピーを作成するのではなく**、元のデータの**ビュー**を提供します。スライスを変更すると、明示的にコピーしない限り、元の配列に影響します。"
   ]
  },
  {
   "cell_type": "code",
   "execution_count": null,
   "id": "d8729c17",
   "metadata": {},
   "outputs": [],
   "source": [
    "print(a[::2])    # [10 30 50] → every second element"
   ]
  },
  {
   "cell_type": "markdown",
   "id": "e80608a2",
   "metadata": {},
   "source": [
    "> **ヒント:** インデックス作成とスライスは、数学演算を適用したりモデルに入力する前にデータを選択および変換するために不可欠です。"
   ]
  },
  {
   "cell_type": "markdown",
   "id": "f4f28134",
   "metadata": {},
   "source": [
    "### 5.2 多次元インデックス\n",
    "**概念:** 行と列のインデックスを使用して、2次元（またはそれ以上の次元）配列の要素にアクセスし、操作します。\n",
    "\n",
    "多次元配列では、NumPy は**カンマ区切りのインデックス** を使用して各軸に沿った位置を指定します。\n",
    "\n",
    "#### 例 (2次元配列):"
   ]
  },
  {
   "cell_type": "code",
   "execution_count": null,
   "id": "b7b7b1c9",
   "metadata": {},
   "outputs": [],
   "source": [
    "import numpy as np\n",
    "\n",
    "b = np.array([[1, 2, 3],\n",
    "              [4, 5, 6]])"
   ]
  },
  {
   "cell_type": "markdown",
   "id": "d55d5c82",
   "metadata": {},
   "source": [
    "これは 2×3 配列（2 行 3 列）です。\n",
    "\n",
    "#### 個々の要素へのアクセス:"
   ]
  },
  {
   "cell_type": "code",
   "execution_count": null,
   "id": "da36fb48",
   "metadata": {},
   "outputs": [],
   "source": [
    "print(b[0, 0])  # 1  → first row, first column\n",
    "print(b[1, 2])  # 6  → second row, third column"
   ]
  },
  {
   "cell_type": "markdown",
   "id": "18721adf",
   "metadata": {},
   "source": [
    "#### 行と列のスライス:"
   ]
  },
  {
   "cell_type": "code",
   "execution_count": null,
   "id": "3411e32a",
   "metadata": {},
   "outputs": [],
   "source": [
    "print(b[0])       # [1 2 3]  → entire first row\n",
    "print(b[:, 1])    # [2 5]    → second column from all rows\n",
    "print(b[1, :])    # [4 5 6]  → all columns from second row\n",
    "print(b[0:2, 1:]) # [[2 3] [5 6]] → sub-matrix of bottom-right values"
   ]
  },
  {
   "cell_type": "markdown",
   "id": "55c25b9e",
   "metadata": {},
   "source": [
    "#### 負のインデックス:\n",
    "負の値を使用して、末尾からインデックスを作成できます。\n",
    "\n",
    "> 多次元インデックスは、**部分行列**の抽出、**特徴量**へのアクセス、モデリングワークフローのためのデータの再構成に非常に役立ちます。"
   ]
  },
  {
   "cell_type": "code",
   "execution_count": null,
   "id": "e1f74e8b",
   "metadata": {},
   "outputs": [],
   "source": [
    "print(b[-1, -1])  # 6 → last row, last column"
   ]
  },
  {
   "cell_type": "markdown",
   "id": "3d024f83",
   "metadata": {},
   "source": [
    "### セクション 6: 便利な NumPy 関数\n",
    "### 6.1 配列の初期化"
   ]
  },
  {
   "cell_type": "markdown",
   "id": "02ec0920",
   "metadata": {},
   "source": [
    "### 6.1 配列の初期化\n",
    "**概念:** NumPy 組み込み関数を使って、配列を素早く作成します。\n",
    "\n",
    "NumPy は、特定の形状、サイズ、値を持つ **配列を初期化** するためのさまざまな関数を提供しています。これらは、プレースホルダデータ、構造化グリッド、または計算用のクリーンな行列を作成するために不可欠です。\n",
    "\n",
    "#### 一般的な配列作成関数:\n",
    "**1. `np.zeros(shape)`**\n",
    "ゼロで埋められた配列を作成します。"
   ]
  },
  {
   "cell_type": "code",
   "execution_count": null,
   "id": "77d96dc7",
   "metadata": {},
   "outputs": [],
   "source": [
    "import numpy as np\n",
    "\n",
    "np.zeros((2, 3))  \n",
    "# Output:\n",
    "# [[0. 0. 0.]\n",
    "#  [0. 0. 0.]]"
   ]
  },
  {
   "cell_type": "markdown",
   "id": "3c026bc7",
   "metadata": {},
   "source": [
    "**2. `np.ones(shape)`**\n",
    "1で埋められた配列を作成します。"
   ]
  },
  {
   "cell_type": "code",
   "execution_count": null,
   "id": "2db8ff69",
   "metadata": {},
   "outputs": [],
   "source": [
    "np.ones((3, 2))  \n",
    "# Output:\n",
    "# [[1. 1.]\n",
    "#  [1. 1.]\n",
    "#  [1. 1.]]"
   ]
  },
  {
   "cell_type": "markdown",
   "id": "6b1e34d6",
   "metadata": {},
   "source": [
    "**3. `np.full(shape, value)`**\n",
    "指定された値で埋められた配列を作成します。"
   ]
  },
  {
   "cell_type": "code",
   "execution_count": null,
   "id": "d4ff9dc5",
   "metadata": {},
   "outputs": [],
   "source": [
    "np.full((2, 2), 7)  \n",
    "# Output:\n",
    "# [[7 7]\n",
    "#  [7 7]]"
   ]
  },
  {
   "cell_type": "markdown",
   "id": "8ae8824e",
   "metadata": {},
   "source": [
    "**4. `np.eye(n)`**\n",
    "単位行列（対角要素が1、それ以外が0）を作成します。"
   ]
  },
  {
   "cell_type": "code",
   "execution_count": null,
   "id": "508e91cb",
   "metadata": {},
   "outputs": [],
   "source": [
    "np.eye(3)  \n",
    "# Output:\n",
    "# [[1. 0. 0.]\n",
    "#  [0. 1. 0.]\n",
    "#  [0. 0. 1.]]"
   ]
  },
  {
   "cell_type": "markdown",
   "id": "e307ed40",
   "metadata": {},
   "source": [
    "**5. `np.arange(start, stop, step)`**\n",
    "指定されたステップで範囲内に値を作成します（Python の `range()` と同様）。"
   ]
  },
  {
   "cell_type": "code",
   "execution_count": null,
   "id": "20decff9",
   "metadata": {},
   "outputs": [],
   "source": [
    "np.arange(0, 10, 2)  \n",
    "# Output: [0 2 4 6 8]"
   ]
  },
  {
   "cell_type": "markdown",
   "id": "056f6e09",
   "metadata": {},
   "source": [
    "**6. `np.linspace(start, stop, num)`**\n",
    "`start` と `stop` の間に、`num` 個の等間隔の値を作成します（両端を含む）。\n",
    "\n",
    "> **ヒント:** 機械学習における重みの準備、マスクの作成、配列ベースの計算のスキャフォールディングなど、白紙の状態から作業を開始する必要がある場合は、これらの初期化関数を使用します。"
   ]
  },
  {
   "cell_type": "code",
   "execution_count": null,
   "id": "1619a20f",
   "metadata": {},
   "outputs": [],
   "source": [
    "np.linspace(0, 1, 5)  \n",
    "# Output: [0.   0.25 0.5  0.75 1.  ]"
   ]
  },
  {
   "cell_type": "markdown",
   "id": "0a4a7fc8",
   "metadata": {},
   "source": [
    "### セクション 7: 配列の再構成とフラット化\n",
    "**概念:** `.reshape()` と `.flatten()` を使用して配列の構造を変換します。\n",
    "\n",
    "多くのデータサイエンスや機械学習のタスクでは、**配列の再構成** が必要になります。例えば、1次元配列を2次元形式に変換したり、多次元配列を1次元ベクトルにフラット化したりすることです。\n",
    "\n",
    "NumPy には、このための強力なツールが2つあります。\n",
    "\n",
    "#### 7.1 `reshape(new_shape)`\n",
    "配列の構造を、基になるデータに変更を加えることなく変更します。"
   ]
  },
  {
   "cell_type": "code",
   "execution_count": null,
   "id": "051e916a",
   "metadata": {},
   "outputs": [],
   "source": [
    "import numpy as np\n",
    "\n",
    "a = np.arange(6)         # [0 1 2 3 4 5]\n",
    "b = a.reshape((2, 3))    # 2 rows, 3 columns\n",
    "\n",
    "print(b)\n",
    "# Output:\n",
    "# [[0 1 2]\n",
    "#  [3 4 5]]"
   ]
  },
  {
   "cell_type": "markdown",
   "id": "2b645db5",
   "metadata": {},
   "source": [
    "- 新しい形状は要素の総数と**互換性**がある必要があります。\n",
    "- `-1` を使用すると、NumPy に次元の 1 つを推測させることができます。"
   ]
  },
  {
   "cell_type": "code",
   "execution_count": null,
   "id": "2f7f5d29",
   "metadata": {},
   "outputs": [],
   "source": [
    "a.reshape((3, -1))  # Output: shape (3, 2)"
   ]
  },
  {
   "cell_type": "markdown",
   "id": "f3da5988",
   "metadata": {},
   "source": [
    "#### 7.2 `flatten()`\n",
    "多次元配列を**1次元配列**に変換します。\n",
    "- `.flatten()` は配列の**コピー**を返します。\n",
    "- **ビュー**が必要な場合は、代わりに `.ravel()` を使用してください（高速ですが、元の配列にリンクされます）。\n",
    "\n",
    "> **なぜ重要なのか:**\n",
    "リシェイプは、以下の場合に重要です。\n",
    "- MLモデルの入力特徴量の準備（例: `(samples, features)`）\n",
    "- 画像データの処理（例: 3Dピクセルをベクトルにリシェイプ）\n",
    "- ブロードキャストまたは行列演算のための配列のアラインメント"
   ]
  },
  {
   "cell_type": "code",
   "execution_count": null,
   "id": "7f3562be",
   "metadata": {},
   "outputs": [],
   "source": [
    "print(b.flatten())  # Output: [0 1 2 3 4 5]"
   ]
  },
  {
   "cell_type": "markdown",
   "id": "64f7f761",
   "metadata": {},
   "source": [
    "### セクション 8: ブロードキャスト\n",
    "**概念:** 異なる形状の配列に演算を適用します。\n",
    "\n",
    "**ブロードキャスト** は、**異なる形状** の配列間で算術演算を実行できる強力な NumPy 機能です（ただし、特定の互換性ルールに従う必要があります）。\n",
    "\n",
    "NumPy は、配列のサイズを手動で変更する代わりに、**可能な場合は自動的に次元を「伸縮」** して形状を一致させ、**要素ごとの演算** を効率的に実行します。\n",
    "\n",
    "![title](images/broadcasting.png)\n",
    "<br>\n",
    "\n",
    "#### 8.1 例 1: 2D + 1D\n",
    "ここでは、`a` は (3, 3) にブロードキャストされ、`b` はそれに合わせて形状が変更されます。"
   ]
  },
  {
   "cell_type": "code",
   "execution_count": null,
   "id": "b5450802",
   "metadata": {},
   "outputs": [],
   "source": [
    "import numpy as np\n",
    "\n",
    "a = np.array([[1], [2], [3]])       # Shape: (3, 1)\n",
    "b = np.array([4, 5, 6])             # Shape: (3,) → becomes (1, 3)\n",
    "\n",
    "print(a + b)\n",
    "# Output:\n",
    "# [[5 6 7]\n",
    "#  [6 7 8]\n",
    "#  [7 8 9]]"
   ]
  },
  {
   "cell_type": "markdown",
   "id": "6ed406ef",
   "metadata": {},
   "source": [
    "#### 8.2 例 2: スカラー + 配列\n",
    "\n",
    "スカラーは配列全体にブロードキャストされます。\n",
    "\n",
    "#### ブロードキャストルールの概要\n",
    "\n",
    "1. **図形は右から左へ** (末尾の次元) 比較します。\n",
    "2. 次元は次の条件を満たす必要があります。\n",
    "- 等しい、または\n",
    "- どちらか一方が 1 である\n",
    "3. 欠落している次元は左から 1 で埋められます。\n",
    "\n",
    "#### ブロードキャストを使用する場合:\n",
    "\n",
    "- 行列の各行にベクトルを追加する場合\n",
    "- 行または列をスケーリングする場合\n",
    "- ループなしで効率的なデータ変換を行う場合\n",
    "\n",
    "> **ヒント:** ブロードキャストを使用すると、コードが簡潔になり、処理が高速になります。ただし、微妙なバグや図形の不一致を回避するために、常に次元を検証してください。"
   ]
  },
  {
   "cell_type": "code",
   "execution_count": null,
   "id": "a9668112",
   "metadata": {},
   "outputs": [],
   "source": [
    "x = np.array([1, 2, 3])\n",
    "print(x + 10)   # [11 12 13]"
   ]
  },
  {
   "cell_type": "markdown",
   "id": "d5b8a351",
   "metadata": {},
   "source": [
    "### セクション 9: 集計関数\n",
    "**概念:** 組み込みの集計関数を用いて、配列の値を集計または縮小します。\n",
    "\n",
    "NumPy の集計関数は、**複数の値を合計、平均、最大値、標準偏差などの単一の要約統計値に縮小します**。これらは、データセットの分析、統計値の計算、モデル出力の検証に非常に役立ちます。\n",
    "\n",
    "#### 9.1 一般的な集計関数:"
   ]
  },
  {
   "cell_type": "code",
   "execution_count": null,
   "id": "a52f788d",
   "metadata": {},
   "outputs": [],
   "source": [
    "\n",
    "import numpy as np\n",
    "\n",
    "a = np.array([[1, 2],\n",
    "              [3, 4]])\n",
    "\n",
    "print(a.sum())       # Total sum: 10\n",
    "print(a.mean())      # Average: 2.5\n",
    "print(a.std())       # Standard deviation\n",
    "print(a.min())       # Minimum value: 1\n",
    "print(a.max())       # Maximum value: 4\n",
    "print(a.prod())      # Product of all elements: 24"
   ]
  },
  {
   "cell_type": "markdown",
   "id": "36779268",
   "metadata": {},
   "source": [
    "#### 9.2 軸をまたいだ集計\n",
    "\n",
    "`axis` 引数を使用して、行単位または列単位で集計を実行します。\n",
    "- `axis=0`: 行を折りたたむ → **列** をまたいだ演算\n",
    "- `axis=1`: 列を折りたたむ → **行** をまたいだ演算"
   ]
  },
  {
   "cell_type": "code",
   "execution_count": null,
   "id": "fd4611c9",
   "metadata": {},
   "outputs": [],
   "source": [
    "print(a.sum(axis=0))  # Sum along columns → [4 6]\n",
    "print(a.sum(axis=1))  # Sum along rows    → [3 7]"
   ]
  },
  {
   "cell_type": "markdown",
   "id": "373eca2f",
   "metadata": {},
   "source": [
    "### 実際の例:\n",
    "\n",
    "- 画像内のピクセル値の合計\n",
    "- 生徒全体の平均点\n",
    "- センサー読み取り値の標準偏差\n",
    "- データセットの列方向の正規化\n",
    "\n",
    "> **ヒント:** 2次元以上の配列を扱う場合は、常に `axis` を明示的に指定してください。これにより、混乱やバグを防ぐことができます。"
   ]
  },
  {
   "cell_type": "markdown",
   "id": "99b8afcb",
   "metadata": {},
   "source": [
    "## セクション 10 理解度チェック問題\n",
    "1. 0 から 9 までの値を持つ 1 次元配列を作成します。\n",
    "2. [5, 10, 15] の平均と標準偏差を求めます。\n",
    "3. 1 から 9 までの値を持つ 3x3 行列を作成します。\n",
    "4. 対角要素を抽出します。\n",
    "5. 行列を作成し、正規化します（平均を減算し、標準偏差で割ります）。\n",
    "6. 2x1 配列と 1x2 配列へのブロードキャストを示します。\n",
    "\n",
    "これらの問題は、NumPy のユースケースをより深く掘り下げる、今後出題される 20 問の練習問題（初級→上級）の準備となります。"
   ]
  }
 ],
 "metadata": {
  "kernelspec": {
   "display_name": "dl_env",
   "language": "python",
   "name": "python3"
  },
  "language_info": {
   "codemirror_mode": {
    "name": "ipython",
    "version": 3
   },
   "file_extension": ".py",
   "mimetype": "text/x-python",
   "name": "python",
   "nbconvert_exporter": "python",
   "pygments_lexer": "ipython3",
   "version": "3.10.15"
  }
 },
 "nbformat": 4,
 "nbformat_minor": 5
}
